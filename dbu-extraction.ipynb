{
 "cells": [
  {
   "cell_type": "code",
   "execution_count": 1,
   "id": "3cbdf70d-7380-420a-87c7-4dbd4c90453e",
   "metadata": {},
   "outputs": [],
   "source": [
    "import os\n",
    "import pandas as pd"
   ]
  },
  {
   "cell_type": "code",
   "execution_count": 2,
   "id": "fbdf89eb-5139-47ec-a8d3-684856065b92",
   "metadata": {},
   "outputs": [
    {
     "name": "stdout",
     "output_type": "stream",
     "text": [
      "c:\\SFS\n"
     ]
    }
   ],
   "source": [
    "cwd = os.getcwd()\n",
    "print(cwd)"
   ]
  },
  {
   "cell_type": "code",
   "execution_count": 3,
   "id": "f6a363c8-c631-433c-a72f-23d330e56514",
   "metadata": {},
   "outputs": [],
   "source": [
    "head = pd.read_csv(os.path.join(cwd, 'data', 'results', 'db-unification','head_DBU-COMPLETE.csv'), index_col = 'DATA')\n",
    "meta = pd.read_csv(os.path.join(cwd, 'data', 'results', 'db-unification','meta_DBU-COMPLETE.csv'), index_col = 'CODICE')\n",
    "head.index = pd.to_datetime(head.index)"
   ]
  },
  {
   "cell_type": "code",
   "execution_count": 38,
   "id": "92982639-e0c4-4f91-8686-f4feb7a72258",
   "metadata": {},
   "outputs": [],
   "source": [
    "#specify starting and ending date of extraction\n",
    "start = '2015-01-01'\n",
    "end = '2015-01-31'"
   ]
  },
  {
   "cell_type": "code",
   "execution_count": 36,
   "id": "8c9a0179-acd9-4bb3-86c8-ae18ab1e123b",
   "metadata": {},
   "outputs": [],
   "source": [
    "sel = head.loc[head.index.isin(pd.date_range(start, end)),:].transpose()\n",
    "join = sel.merge(meta.loc[sel.index, ['lat', 'lon']], left_index = True, right_index = True)\n",
    "join.columns = ['value', 'lat', 'lon']"
   ]
  },
  {
   "cell_type": "code",
   "execution_count": 37,
   "id": "894e1a02-acce-4d9f-b76a-ee23eed80024",
   "metadata": {},
   "outputs": [],
   "source": [
    "join.to_csv(os.path.join(cwd, '2015-01-piezo.csv'))"
   ]
  },
  {
   "cell_type": "code",
   "execution_count": null,
   "id": "9f15dda6",
   "metadata": {},
   "outputs": [],
   "source": []
  }
 ],
 "metadata": {
  "kernelspec": {
   "display_name": "Python 3 (ipykernel)",
   "language": "python",
   "name": "python3"
  },
  "language_info": {
   "codemirror_mode": {
    "name": "ipython",
    "version": 3
   },
   "file_extension": ".py",
   "mimetype": "text/x-python",
   "name": "python",
   "nbconvert_exporter": "python",
   "pygments_lexer": "ipython3",
   "version": "3.9.7"
  }
 },
 "nbformat": 4,
 "nbformat_minor": 5
}
